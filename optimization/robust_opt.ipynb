{
 "cells": [
  {
   "cell_type": "code",
   "execution_count": 43,
   "metadata": {},
   "outputs": [],
   "source": [
    "from rsome import ro\n",
    "from rsome import grb_solver as grb\n",
    "import rsome as rso\n",
    "import numpy as np\n",
    "import matplotlib.pyplot as plt"
   ]
  },
  {
   "cell_type": "code",
   "execution_count": 44,
   "metadata": {},
   "outputs": [
    {
     "name": "stdout",
     "output_type": "stream",
     "text": [
      "Being solved by Gurobi...\n",
      "Solution status: 2\n",
      "Running time: 0.0100s\n"
     ]
    }
   ],
   "source": [
    "# ref: https://xiongpengnus.github.io/rsome/example_ro_portfolio#ref1\n",
    "#L1 Norm: e.g., X=[3,4], ||x||1 = |3| + |4| = 7\n",
    "# L2 Norm: e.g., X=[3,4], sqrt(|3|^2 + |4|^2) = 5\n",
    "# L-infinity: e.g.,  X= [-6, 4, 2], ||x||inf = 6 (the largest magnitude among each element of a vector)\n",
    "\n",
    "n = 150                                 # number of stocks\n",
    "i = np.arange(1, n+1)                   # indices of stocks\n",
    "p = 1.15 + i*0.05/150                   # mean returns\n",
    "delta = 0.05/450 * (2*i*n*(n+1))**0.5   # deviations of returns\n",
    "Gamma = 5                               # budget of uncertainty\n",
    "\n",
    "model = ro.Model()              \n",
    "x = model.dvar(n)                       # fractions of investment\n",
    "z = model.rvar(n)                       # random variables\n",
    "\n",
    "model.maxmin((p + delta*z) @ x,         # the max-min objective\n",
    "             rso.norm(z, np.infty) <=1, # uncertainty set constraints\n",
    "             rso.norm(z, 1) <= Gamma)   # uncertainty set constraints\n",
    "model.st(sum(x) == 1)                   # summation of x is one\n",
    "model.st(x >= 0)                        # x is non-negative\n",
    "\n",
    "model.solve(grb)                        # solve the model by Gurobi"
   ]
  },
  {
   "cell_type": "code",
   "execution_count": 45,
   "metadata": {},
   "outputs": [
    {
     "data": {
      "image/png": "[encoded data removed]",
      "text/plain": [
       "<Figure size 432x288 with 1 Axes>"
      ]
     },
     "metadata": {
      "needs_background": "light"
     },
     "output_type": "display_data"
    },
    {
     "name": "stdout",
     "output_type": "stream",
     "text": [
      "Objective value: 1.1709\n"
     ]
    }
   ],
   "source": [
    "obj_val = model.get()                   # the optimal objective value\n",
    "x_sol = x.get()                         # the optimal investment decision\n",
    "\n",
    "plt.plot(range(1, n+1), x_sol, linewidth=2, color='b')\n",
    "plt.xlabel('Stocks')\n",
    "plt.ylabel('Fraction of investment')\n",
    "plt.show()\n",
    "print('Objective value: {0:0.4f}'.format(obj_val))"
   ]
  },
  {
   "cell_type": "code",
   "execution_count": 46,
   "metadata": {},
   "outputs": [],
   "source": [
    "# Robust/Robustness Knapsack\n",
    "# ref: https://xiongpengnus.github.io/rsome/example_ro_knapsack"
   ]
  },
  {
   "cell_type": "code",
   "execution_count": null,
   "metadata": {},
   "outputs": [],
   "source": []
  }
 ],
 "metadata": {
  "kernelspec": {
   "display_name": "Python 3",
   "language": "python",
   "name": "python3"
  },
  "language_info": {
   "codemirror_mode": {
    "name": "ipython",
    "version": 3
   },
   "file_extension": ".py",
   "mimetype": "text/x-python",
   "name": "python",
   "nbconvert_exporter": "python",
   "pygments_lexer": "ipython3",
   "version": "3.9.0"
  }
 },
 "nbformat": 4,
 "nbformat_minor": 4
}

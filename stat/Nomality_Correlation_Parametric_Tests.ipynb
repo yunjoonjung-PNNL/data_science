{
 "cells": [
  {
   "cell_type": "markdown",
   "id": "c6e70c2b",
   "metadata": {},
   "source": [
    "The code below is referenced from https://machinelearningmastery.com/statistical-hypothesis-tests-in-python-cheat-sheet/"
   ]
  },
  {
   "cell_type": "markdown",
   "id": "07c3b832",
   "metadata": {},
   "source": [
    "## 1. Normality Tests\n",
    "\n",
    "This section lists statistical tests that we can check if the data has a Gaussian distribution."
   ]
  },
  {
   "cell_type": "markdown",
   "id": "1858835f",
   "metadata": {},
   "source": [
    "### 1.1 Shapiro-Wilk Test\n",
    "\n",
    "Tests whether a data sample has a Gaussian distribution.\n",
    "\n",
    "Assumptions\n",
    "\n",
    "* Observations in each sample are independent and identically distributed (iid).\n",
    "\n",
    "Interpretation\n",
    "* $H_{0}$: the sample has a Gaussian distribution\n",
    "* $H_{1}$: the sample doesn't have a Gaussian distribution"
   ]
  },
  {
   "cell_type": "code",
   "execution_count": 7,
   "id": "d5f7c0f6",
   "metadata": {},
   "outputs": [],
   "source": [
    "from scipy.stats import shapiro\n",
    "\n",
    "data = [0.873, 2.817, 0.121, -0.945, -0.055, -1.436, 0.360, -1.478, -1.637, -1.869]"
   ]
  },
  {
   "cell_type": "code",
   "execution_count": 11,
   "id": "061d4398",
   "metadata": {},
   "outputs": [
    {
     "name": "stdout",
     "output_type": "stream",
     "text": [
      "stat: 0.8951009511947632, p-value: 0.19340917468070984\n",
      "Probably Gaussian\n"
     ]
    }
   ],
   "source": [
    "stat, p_value = shapiro(data)\n",
    "\n",
    "print(f\"stat: {stat}, p-value: {p_value}\")\n",
    "\n",
    "if p_value > 0.05:\n",
    "    print('Probably Gaussian')\n",
    "else:\n",
    "    print('Probably not Gaussian')"
   ]
  },
  {
   "cell_type": "markdown",
   "id": "1d50e856",
   "metadata": {},
   "source": [
    "### 1.2 D’Agostino’s K-squared Test\n",
    "\n",
    "Tests whether a data sample has a Gaussian distribution.\n",
    "\n",
    "Assumptions\n",
    "\n",
    "* Observations in each sample are independent and identically distributed (iid).\n",
    "\n",
    "Interpretation\n",
    "* $H_{0}$: the sample has a Gaussian distribution\n",
    "* $H_{1}$: the sample doesn't have a Gaussian distribution"
   ]
  },
  {
   "cell_type": "code",
   "execution_count": 14,
   "id": "55e8fc62",
   "metadata": {},
   "outputs": [],
   "source": [
    "from scipy.stats import normaltest\n",
    "data = [0.873, 2.817, 0.121, -0.945, -0.055, -1.436, 0.360, -1.478, -1.637, -1.869]"
   ]
  },
  {
   "cell_type": "code",
   "execution_count": 15,
   "id": "d0798f40",
   "metadata": {},
   "outputs": [
    {
     "name": "stdout",
     "output_type": "stream",
     "text": [
      "stat: 3.3918758941075353, p-value: 0.19340917468070984\n",
      "Probably Gaussian\n"
     ]
    }
   ],
   "source": [
    "stat, p = normaltest(data)\n",
    "\n",
    "print(f\"stat: {stat}, p-value: {p_value}\")\n",
    "\n",
    "if p_value > 0.05:\n",
    "    print('Probably Gaussian')\n",
    "else:\n",
    "    print('Probably not Gaussian')"
   ]
  },
  {
   "cell_type": "markdown",
   "id": "b773876f",
   "metadata": {},
   "source": [
    "## 2. Correlation Tests\n",
    "\n",
    "This section lists statistical tests that you can use to check if two samples are related.\n",
    "\n"
   ]
  },
  {
   "cell_type": "markdown",
   "id": "f47b07e2",
   "metadata": {},
   "source": [
    "### 2.1 Pearson’s Correlation Coefficient\n",
    "Tests whether two samples have a linear relationship.\n",
    "\n",
    "Assumptions\n",
    "* Observations in each sample are independent and identically distributed (iid).\n",
    "* Observations in each sample are normally distributed.\n",
    "* Observations in each sample have the same variance.\n",
    "\n",
    "Interpretation\n",
    "* $H_{0}$: the two samples are independent.\n",
    "* $H_{1}$: there is a dependency between the samples."
   ]
  },
  {
   "cell_type": "code",
   "execution_count": 35,
   "id": "805a8837",
   "metadata": {},
   "outputs": [
    {
     "name": "stdout",
     "output_type": "stream",
     "text": [
      "stat: 0.6879696368388862, p-value: 0.027872969514496207\n",
      "Probably dependent\n"
     ]
    },
    {
     "data": {
      "image/png": "[encoded data removed]",
      "text/plain": [
       "<Figure size 432x288 with 1 Axes>"
      ]
     },
     "metadata": {
      "needs_background": "light"
     },
     "output_type": "display_data"
    }
   ],
   "source": [
    "from scipy.stats import pearsonr\n",
    "from matplotlib import pyplot as plt\n",
    "\n",
    "data1 = [0.873, 2.817, 0.121, -0.945, -0.055, -1.436, 0.360, -1.478, -1.637, -1.869]\n",
    "data2 = [0.353, 3.517, 0.125, -7.545, -0.555, -1.536, 3.350, -1.578, -3.537, -1.579]\n",
    "plt.scatter(data1, data2)\n",
    "\n",
    "stat, p_value = pearsonr(data1, data2)\n",
    "print(f\"stat: {stat}, p-value: {p_value}\")\n",
    "\n",
    "if p > 0.05:\n",
    "    print('Probably independent')\n",
    "else:\n",
    "    print('Probably dependent')"
   ]
  },
  {
   "cell_type": "markdown",
   "id": "d11e0a84",
   "metadata": {},
   "source": [
    "### 2.2 Spearman’s Rank Correlation\n",
    "Tests whether two samples have a monotonic relationship.\n",
    "\n",
    "Assumptions\n",
    "* Observations in each sample are independent and identically distributed (iid).\n",
    "* Observations in each sample can be ranked.\n",
    "\n",
    "Interpretation\n",
    "* $H_{0}$: the two samples are independent.\n",
    "* $H_{1}$: there is a dependency between the samples."
   ]
  },
  {
   "cell_type": "code",
   "execution_count": 34,
   "id": "f2344a1c",
   "metadata": {},
   "outputs": [
    {
     "name": "stdout",
     "output_type": "stream",
     "text": [
      "stat: 0.8545454545454544, p-value: 0.027872969514496207\n",
      "Probably dependent\n"
     ]
    },
    {
     "data": {
      "image/png": "[encoded data removed]",
      "text/plain": [
       "<Figure size 432x288 with 1 Axes>"
      ]
     },
     "metadata": {
      "needs_background": "light"
     },
     "output_type": "display_data"
    }
   ],
   "source": [
    "from scipy.stats import spearmanr\n",
    "from matplotlib import pyplot as plt\n",
    "\n",
    "data1 = [0.873, 2.817, 0.121, -0.945, -0.055, -1.436, 0.360, -1.478, -1.637, -1.869]\n",
    "data2 = [0.353, 3.517, 0.125, -7.545, -0.555, -1.536, 3.350, -1.578, -3.537, -1.579]\n",
    "plt.scatter(data1, data2)\n",
    "\n",
    "stat, p = spearmanr(data1, data2)\n",
    "print(f\"stat: {stat}, p-value: {p_value}\")\n",
    "\n",
    "if p > 0.05:\n",
    "    print('Probably independent')\n",
    "else:\n",
    "    print('Probably dependent')"
   ]
  },
  {
   "cell_type": "markdown",
   "id": "fdbf14fe",
   "metadata": {},
   "source": [
    "### 2.3 Chi-Squared Test\n",
    "Tests whether two categorical variables are related or independent.\n",
    "\n",
    "Assumptions\n",
    "* Observations used in the calculation of the contingency table are independent.\n",
    "* 25 or more examples in each cell of the contingency table.\n",
    "\n",
    "Interpretation\n",
    "* $H_{0}$: the two samples are independent.\n",
    "* $H_{1}$: there is a dependency between the samples."
   ]
  },
  {
   "cell_type": "code",
   "execution_count": 28,
   "id": "4d4a3a94",
   "metadata": {},
   "outputs": [
    {
     "name": "stdout",
     "output_type": "stream",
     "text": [
      "table:\n",
      "[[10, 20, 30], [6, 9, 17]]\n",
      "stat=0.272, p=0.873\n",
      "Probably independent\n"
     ]
    }
   ],
   "source": [
    "from scipy.stats import chi2_contingency\n",
    "table = [[10, 20, 30],[6,  9,  17]]\n",
    "print(f\"table:\\n{table}\")\n",
    "\n",
    "stat, p, dof, expected = chi2_contingency(table)\n",
    "print('stat=%.3f, p=%.3f' % (stat, p))\n",
    "\n",
    "if p > 0.05:\n",
    "    print('Probably independent')\n",
    "else:\n",
    "    print('Probably dependent')"
   ]
  },
  {
   "cell_type": "markdown",
   "id": "0c1490d5",
   "metadata": {},
   "source": [
    "## 3. Parametric Statistical Hypothesis Tests\n",
    "This section lists statistical tests that you can use to compare data samples."
   ]
  },
  {
   "cell_type": "markdown",
   "id": "04321747",
   "metadata": {},
   "source": [
    "### 3.1 Student’s t-test\n",
    "Tests whether the means of two independent samples are significantly different.\n",
    "\n",
    "Assumptions\n",
    "* Observations in each sample are independent and identically distributed (iid).\n",
    "* Observations in each sample are normally distributed.\n",
    "* Observations in each sample have the same variance.\n",
    "\n",
    "Interpretation\n",
    "* $H_{0}$: the means of the samples are equal.\n",
    "* $H_{1}$: the means of the samples are unequal."
   ]
  },
  {
   "cell_type": "code",
   "execution_count": 33,
   "id": "c50588ad",
   "metadata": {},
   "outputs": [
    {
     "name": "stdout",
     "output_type": "stream",
     "text": [
      "stat=-0.326, p=0.748\n",
      "Probably the same distribution\n"
     ]
    },
    {
     "data": {
      "image/png": "[encoded data removed]",
      "text/plain": [
       "<Figure size 432x288 with 1 Axes>"
      ]
     },
     "metadata": {
      "needs_background": "light"
     },
     "output_type": "display_data"
    }
   ],
   "source": [
    "from scipy.stats import ttest_ind\n",
    "from matplotlib import pyplot as plt\n",
    "\n",
    "data1 = [0.873, 2.817, 0.121, -0.945, -0.055, -1.436, 0.360, -1.478, -1.637, -1.869]\n",
    "data2 = [1.142, -0.432, -0.938, -0.729, -0.846, -0.157, 0.500, 1.183, -1.075, -0.169]\n",
    "plt.scatter(data1, data2)\n",
    "\n",
    "stat, p = ttest_ind(data1, data2)\n",
    "print('stat=%.3f, p=%.3f' % (stat, p))\n",
    "\n",
    "if p > 0.05:\n",
    "    print('Probably the same distribution')\n",
    "else:\n",
    "    print('Probably different distributions')"
   ]
  },
  {
   "cell_type": "markdown",
   "id": "bffbbbfa",
   "metadata": {},
   "source": [
    "### 3.2 Paired Student’s t-test\n",
    "Tests whether the means of two paired samples are significantly different.\n",
    "\n",
    "Assumptions\n",
    "* Observations in each sample are independent and identically distributed (iid).\n",
    "* Observations in each sample are normally distributed.\n",
    "* Observations in each sample have the same variance.\n",
    "* Observations across each sample are paired.\n",
    "\n",
    "\n",
    "Interpretation    \n",
    "* $H_{0}$: the means of the samples are equal.\n",
    "* $H_{1}$: the means of the samples are unequal."
   ]
  },
  {
   "cell_type": "code",
   "execution_count": 37,
   "id": "e72d6e18",
   "metadata": {},
   "outputs": [
    {
     "name": "stdout",
     "output_type": "stream",
     "text": [
      "stat=-0.334, p=0.746\n",
      "Probably the same distribution\n"
     ]
    },
    {
     "data": {
      "image/png": "[encoded data removed]",
      "text/plain": [
       "<Figure size 432x288 with 1 Axes>"
      ]
     },
     "metadata": {
      "needs_background": "light"
     },
     "output_type": "display_data"
    }
   ],
   "source": [
    "from scipy.stats import ttest_rel\n",
    "from matplotlib import pyplot as plt\n",
    "\n",
    "data1 = [0.873, 2.817, 0.121, -0.945, -0.055, -1.436, 0.360, -1.478, -1.637, -1.869]\n",
    "data2 = [1.142, -0.432, -0.938, -0.729, -0.846, -0.157, 0.500, 1.183, -1.075, -0.169]\n",
    "plt.scatter(data1, data2)\n",
    "\n",
    "stat, p = ttest_rel(data1, data2)\n",
    "print('stat=%.3f, p=%.3f' % (stat, p))\n",
    "\n",
    "if p > 0.05:\n",
    "    print('Probably the same distribution')\n",
    "else:\n",
    "    print('Probably different distributions')"
   ]
  },
  {
   "cell_type": "markdown",
   "id": "851f83f5",
   "metadata": {},
   "source": [
    "### 3.3 Analysis of Variance Test (ANOVA)\n",
    "Tests whether the means of two or more independent samples are significantly different.\n",
    "\n",
    "Assumptions\n",
    "* Observations in each sample are independent and identically distributed (iid).\n",
    "* Observations in each sample are normally distributed.\n",
    "* Observations in each sample have the same variance.\n",
    "\n",
    "Interpretation\n",
    "* $H_{0}$: the means of the samples are equal.\n",
    "* $H_{1}$: one or more of the means of the samples are unequal."
   ]
  },
  {
   "cell_type": "code",
   "execution_count": 39,
   "id": "e923f59e",
   "metadata": {},
   "outputs": [
    {
     "name": "stdout",
     "output_type": "stream",
     "text": [
      "stat=0.096, p=0.908\n",
      "Probably the same distribution\n"
     ]
    }
   ],
   "source": [
    "from scipy.stats import f_oneway\n",
    "data1 = [0.873, 2.817, 0.121, -0.945, -0.055, -1.436, 0.360, -1.478, -1.637, -1.869]\n",
    "data2 = [1.142, -0.432, -0.938, -0.729, -0.846, -0.157, 0.500, 1.183, -1.075, -0.169]\n",
    "data3 = [-0.208, 0.696, 0.928, -1.148, -0.213, 0.229, 0.137, 0.269, -0.870, -1.204]\n",
    "\n",
    "stat, p = f_oneway(data1, data2, data3)\n",
    "print('stat=%.3f, p=%.3f' % (stat, p))\n",
    "\n",
    "if p > 0.05:\n",
    "    print('Probably the same distribution')\n",
    "else:\n",
    "    print('Probably different distributions')"
   ]
  },
  {
   "cell_type": "markdown",
   "id": "554e3b4e",
   "metadata": {},
   "source": [
    "### 3.3 Repeated Measures ANOVA Test\n",
    "Tests whether the means of two or more paired samples are significantly different.\n",
    "\n",
    "Assumptions\n",
    "* Observations in each sample are independent and identically distributed (iid).\n",
    "* Observations in each sample are normally distributed.\n",
    "* Observations in each sample have the same variance.\n",
    "* Observations across each sample are paired.\n",
    "\n",
    "Interpretation\n",
    "* $H_{0}$: the means of the samples are equal.\n",
    "* $H_{1}$: one or more of the means of the samples are unequal.\n",
    "\n",
    "Python implementation is not avaiable."
   ]
  },
  {
   "cell_type": "code",
   "execution_count": null,
   "id": "e9c34b26",
   "metadata": {},
   "outputs": [],
   "source": []
  }
 ],
 "metadata": {
  "kernelspec": {
   "display_name": "Python 3 (ipykernel)",
   "language": "python",
   "name": "python3"
  },
  "language_info": {
   "codemirror_mode": {
    "name": "ipython",
    "version": 3
   },
   "file_extension": ".py",
   "mimetype": "text/x-python",
   "name": "python",
   "nbconvert_exporter": "python",
   "pygments_lexer": "ipython3",
   "version": "3.7.9"
  }
 },
 "nbformat": 4,
 "nbformat_minor": 5
}

{
 "cells": [
  {
   "cell_type": "code",
   "execution_count": 38,
   "metadata": {},
   "outputs": [],
   "source": [
    "import numpy as np\n",
    "import torch\n",
    "from torch.autograd import Variable\n",
    "from matplotlib import pyplot as plt"
   ]
  },
  {
   "cell_type": "markdown",
   "metadata": {},
   "source": [
    "### Simple linear regression\n",
    "\n",
    "* The code is referenced from https://towardsdatascience.com/linear-regression-with-pytorch-eb6dedead817"
   ]
  },
  {
   "cell_type": "code",
   "execution_count": 26,
   "metadata": {},
   "outputs": [
    {
     "data": {
      "text/plain": [
       "array([[ 0.],\n",
       "       [ 1.],\n",
       "       [ 2.],\n",
       "       [ 3.],\n",
       "       [ 4.],\n",
       "       [ 5.],\n",
       "       [ 6.],\n",
       "       [ 7.],\n",
       "       [ 8.],\n",
       "       [ 9.],\n",
       "       [10.]], dtype=float32)"
      ]
     },
     "execution_count": 26,
     "metadata": {},
     "output_type": "execute_result"
    }
   ],
   "source": [
    "# create dummy data for training\n",
    "x_values = [i for i in range(11)]\n",
    "x_train = np.array(x_values, dtype=np.float32).reshape(-1, 1)\n",
    "\n",
    "x_train"
   ]
  },
  {
   "cell_type": "code",
   "execution_count": 27,
   "metadata": {},
   "outputs": [
    {
     "data": {
      "text/plain": [
       "array([[ 1.],\n",
       "       [ 3.],\n",
       "       [ 5.],\n",
       "       [ 7.],\n",
       "       [ 9.],\n",
       "       [11.],\n",
       "       [13.],\n",
       "       [15.],\n",
       "       [17.],\n",
       "       [19.],\n",
       "       [21.]], dtype=float32)"
      ]
     },
     "execution_count": 27,
     "metadata": {},
     "output_type": "execute_result"
    }
   ],
   "source": [
    "y_values = [2*i + 1 for i in x_values]\n",
    "y_train = np.array(y_values, dtype=np.float32).reshape(-1, 1)\n",
    "\n",
    "y_train"
   ]
  },
  {
   "cell_type": "code",
   "execution_count": 28,
   "metadata": {},
   "outputs": [],
   "source": [
    "class linearRegression(torch.nn.Module):\n",
    "    def __init__(self, inputSize, outputSize):\n",
    "        super(linearRegression, self).__init__()\n",
    "        self.linear = torch.nn.Linear(inputSize, outputSize)\n",
    "\n",
    "    def forward(self, x):\n",
    "        out = self.linear(x)\n",
    "        \n",
    "        return out"
   ]
  },
  {
   "cell_type": "code",
   "execution_count": 31,
   "metadata": {},
   "outputs": [],
   "source": [
    "inputDim = 1        # takes variable 'x' \n",
    "outputDim = 1       # takes variable 'y'\n",
    "learningRate = 0.01 \n",
    "epochs = 100\n",
    "\n",
    "model = linearRegression(inputDim, outputDim)"
   ]
  },
  {
   "cell_type": "code",
   "execution_count": 32,
   "metadata": {},
   "outputs": [],
   "source": [
    "criterion = torch.nn.MSELoss() # Mean Squared Error \n",
    "optimizer = torch.optim.SGD(model.parameters(), lr=learningRate) # Stochastic Gradient Descent optimization functions "
   ]
  },
  {
   "cell_type": "code",
   "execution_count": 42,
   "metadata": {},
   "outputs": [
    {
     "name": "stdout",
     "output_type": "stream",
     "text": [
      "epoch 0, loss 1.5158585483732168e-05\n",
      "epoch 1, loss 1.4992070646258071e-05\n",
      "epoch 2, loss 1.4822842786088586e-05\n",
      "epoch 3, loss 1.465865716454573e-05\n",
      "epoch 4, loss 1.4494232345896307e-05\n",
      "epoch 5, loss 1.4331462807604112e-05\n",
      "epoch 6, loss 1.4172112969390582e-05\n",
      "epoch 7, loss 1.401373083353974e-05\n",
      "epoch 8, loss 1.3857904377800878e-05\n",
      "epoch 9, loss 1.37021716000163e-05\n",
      "epoch 10, loss 1.355004496872425e-05\n",
      "epoch 11, loss 1.339743994321907e-05\n",
      "epoch 12, loss 1.324859658780042e-05\n",
      "epoch 13, loss 1.3101138392812572e-05\n",
      "epoch 14, loss 1.2954523299413268e-05\n",
      "epoch 15, loss 1.281037930311868e-05\n",
      "epoch 16, loss 1.2665682334045414e-05\n",
      "epoch 17, loss 1.2525738384283613e-05\n",
      "epoch 18, loss 1.2385286026983522e-05\n",
      "epoch 19, loss 1.2247329323145095e-05\n",
      "epoch 20, loss 1.2110225725336932e-05\n",
      "epoch 21, loss 1.1975641427852679e-05\n",
      "epoch 22, loss 1.1841425475722644e-05\n",
      "epoch 23, loss 1.1709103091561701e-05\n",
      "epoch 24, loss 1.1578547855606303e-05\n",
      "epoch 25, loss 1.1448294571891893e-05\n",
      "epoch 26, loss 1.1320685189275537e-05\n",
      "epoch 27, loss 1.1194584658369422e-05\n",
      "epoch 28, loss 1.1069509127992205e-05\n",
      "epoch 29, loss 1.0945980648102704e-05\n",
      "epoch 30, loss 1.0823254342540167e-05\n",
      "epoch 31, loss 1.07027699414175e-05\n",
      "epoch 32, loss 1.058323778124759e-05\n",
      "epoch 33, loss 1.0464853403391317e-05\n",
      "epoch 34, loss 1.0348639079893474e-05\n",
      "epoch 35, loss 1.0233011380478274e-05\n",
      "epoch 36, loss 1.0118471436726395e-05\n",
      "epoch 37, loss 1.0006007869378664e-05\n",
      "epoch 38, loss 9.894655704556499e-06\n",
      "epoch 39, loss 9.783188033907209e-06\n",
      "epoch 40, loss 9.67379401117796e-06\n",
      "epoch 41, loss 9.56719941314077e-06\n",
      "epoch 42, loss 9.459628927288577e-06\n",
      "epoch 43, loss 9.352822416985873e-06\n",
      "epoch 44, loss 9.249451977666467e-06\n",
      "epoch 45, loss 9.145823241851758e-06\n",
      "epoch 46, loss 9.044118087331299e-06\n",
      "epoch 47, loss 8.943202374211978e-06\n",
      "epoch 48, loss 8.841997441777494e-06\n",
      "epoch 49, loss 8.744983460928779e-06\n",
      "epoch 50, loss 8.647009053674992e-06\n",
      "epoch 51, loss 8.550624443159904e-06\n",
      "epoch 52, loss 8.454834642179776e-06\n",
      "epoch 53, loss 8.36065646581119e-06\n",
      "epoch 54, loss 8.266859367722645e-06\n",
      "epoch 55, loss 8.174496542778797e-06\n",
      "epoch 56, loss 8.084402907115873e-06\n",
      "epoch 57, loss 7.99314057076117e-06\n",
      "epoch 58, loss 7.90470130596077e-06\n",
      "epoch 59, loss 7.815427125024144e-06\n",
      "epoch 60, loss 7.727487172815017e-06\n",
      "epoch 61, loss 7.642640412086621e-06\n",
      "epoch 62, loss 7.5564557846519165e-06\n",
      "epoch 63, loss 7.473227469745325e-06\n",
      "epoch 64, loss 7.38929475119221e-06\n",
      "epoch 65, loss 7.306527095352067e-06\n",
      "epoch 66, loss 7.225221906992374e-06\n",
      "epoch 67, loss 7.144578830775572e-06\n",
      "epoch 68, loss 7.064544661261607e-06\n",
      "epoch 69, loss 6.985472282394767e-06\n",
      "epoch 70, loss 6.907389433763456e-06\n",
      "epoch 71, loss 6.830625352449715e-06\n",
      "epoch 72, loss 6.754029527655803e-06\n",
      "epoch 73, loss 6.67766425976879e-06\n",
      "epoch 74, loss 6.6050965870090295e-06\n",
      "epoch 75, loss 6.53042070553056e-06\n",
      "epoch 76, loss 6.45740192339872e-06\n",
      "epoch 77, loss 6.3853485698928125e-06\n",
      "epoch 78, loss 6.314032361842692e-06\n",
      "epoch 79, loss 6.242829840630293e-06\n",
      "epoch 80, loss 6.173762358230306e-06\n",
      "epoch 81, loss 6.104671228968073e-06\n",
      "epoch 82, loss 6.035994829289848e-06\n",
      "epoch 83, loss 5.969382073089946e-06\n",
      "epoch 84, loss 5.901351869397331e-06\n",
      "epoch 85, loss 5.836594027641695e-06\n",
      "epoch 86, loss 5.770923053205479e-06\n",
      "epoch 87, loss 5.706808224203996e-06\n",
      "epoch 88, loss 5.6429266805935185e-06\n",
      "epoch 89, loss 5.579381650022697e-06\n",
      "epoch 90, loss 5.5175923989736475e-06\n",
      "epoch 91, loss 5.456156941363588e-06\n",
      "epoch 92, loss 5.395382686401717e-06\n",
      "epoch 93, loss 5.3354506235336885e-06\n",
      "epoch 94, loss 5.274680461297976e-06\n",
      "epoch 95, loss 5.216560111875879e-06\n",
      "epoch 96, loss 5.159069587534759e-06\n",
      "epoch 97, loss 5.09981964569306e-06\n",
      "epoch 98, loss 5.043389137426857e-06\n",
      "epoch 99, loss 4.986969997844426e-06\n"
     ]
    }
   ],
   "source": [
    "# start training the model\n",
    "\n",
    "loss_list = []\n",
    "for epoch in range(epochs):\n",
    "    inputs = Variable(torch.from_numpy(x_train))\n",
    "    labels = Variable(torch.from_numpy(y_train))\n",
    "        \n",
    "    # Clear gradient buffers because we don't want any gradient from previous epoch to carry forward, dont want to cummulate gradients\n",
    "    optimizer.zero_grad()\n",
    "    \n",
    "    # get output from the model, given the inputs\n",
    "    outputs = model(inputs)\n",
    "    \n",
    "    # get loss for the predicted output\n",
    "    loss = criterion(outputs, labels)\n",
    "#     print(loss)\n",
    "    \n",
    "    # get gradients w.r.t to parameters\n",
    "    loss.backward()\n",
    "    \n",
    "    # update parameters\n",
    "    optimizer.step()\n",
    "    \n",
    "    loss_list.append(loss.item())\n",
    "\n",
    "    print(f'epoch {epoch}, loss {loss.item()}')"
   ]
  },
  {
   "cell_type": "code",
   "execution_count": 48,
   "metadata": {},
   "outputs": [
    {
     "data": {
      "text/plain": [
       "Text(0, 0.5, 'Loss')"
      ]
     },
     "execution_count": 48,
     "metadata": {},
     "output_type": "execute_result"
    },
    {
     "data": {
      "image/png": "[encoded data removed]",
      "text/plain": [
       "<Figure size 432x288 with 1 Axes>"
      ]
     },
     "metadata": {
      "needs_background": "light"
     },
     "output_type": "display_data"
    }
   ],
   "source": [
    "# plot loss function\n",
    "plt.plot(loss_list, 'r')\n",
    "plt.grid('True')\n",
    "plt.xlabel(\"Epochs/Iterations\")\n",
    "plt.ylabel(\"Loss\")"
   ]
  },
  {
   "cell_type": "code",
   "execution_count": 36,
   "metadata": {},
   "outputs": [
    {
     "name": "stdout",
     "output_type": "stream",
     "text": [
      "[[ 1.0072836]\n",
      " [ 3.0062346]\n",
      " [ 5.0051856]\n",
      " [ 7.004137 ]\n",
      " [ 9.003088 ]\n",
      " [11.002039 ]\n",
      " [13.00099  ]\n",
      " [14.999941 ]\n",
      " [16.998892 ]\n",
      " [18.997845 ]\n",
      " [20.996796 ]]\n"
     ]
    }
   ],
   "source": [
    "# test the model\n",
    "with torch.no_grad(): # we don't need gradients in the testing phase\n",
    "    predicted = model(Variable(torch.from_numpy(x_train))).data.numpy()\n",
    "    print(predicted)"
   ]
  },
  {
   "cell_type": "code",
   "execution_count": 39,
   "metadata": {},
   "outputs": [
    {
     "data": {
      "image/png": "[encoded data removed]",
      "text/plain": [
       "<Figure size 432x288 with 1 Axes>"
      ]
     },
     "metadata": {
      "needs_background": "light"
     },
     "output_type": "display_data"
    }
   ],
   "source": [
    "plt.clf()\n",
    "plt.plot(x_train, y_train, 'go', label='True data', alpha=0.5)\n",
    "plt.plot(x_train, predicted, '--', label='Predictions', alpha=0.5)\n",
    "plt.legend(loc='best')\n",
    "plt.show()"
   ]
  },
  {
   "cell_type": "code",
   "execution_count": null,
   "metadata": {},
   "outputs": [],
   "source": []
  },
  {
   "cell_type": "markdown",
   "metadata": {},
   "source": []
  },
  {
   "cell_type": "code",
   "execution_count": null,
   "metadata": {},
   "outputs": [],
   "source": []
  }
 ],
 "metadata": {
  "kernelspec": {
   "display_name": "Python 3",
   "language": "python",
   "name": "python3"
  },
  "language_info": {
   "codemirror_mode": {
    "name": "ipython",
    "version": 3
   },
   "file_extension": ".py",
   "mimetype": "text/x-python",
   "name": "python",
   "nbconvert_exporter": "python",
   "pygments_lexer": "ipython3",
   "version": "3.9.0"
  }
 },
 "nbformat": 4,
 "nbformat_minor": 4
}
